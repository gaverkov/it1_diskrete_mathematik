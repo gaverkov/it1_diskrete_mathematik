{
 "cells": [
  {
   "cell_type": "code",
   "execution_count": 1,
   "metadata": {},
   "outputs": [
    {
     "name": "stdout",
     "output_type": "stream",
     "text": [
      "\n",
      "Variante 1\n",
      "Staubsaugen -> Carola\n",
      "Fenster -> Alice\n",
      "Kueche -> Bob\n",
      "\n",
      "Variante 2\n",
      "Staubsaugen -> Alice\n",
      "Fenster -> Carola\n",
      "Kueche -> Bob\n",
      "\n",
      "Variante 3\n",
      "Staubsaugen -> Carola\n",
      "Fenster -> Bob\n",
      "Kueche -> Alice\n",
      "\n",
      "Variante 4\n",
      "Staubsaugen -> Bob\n",
      "Fenster -> Carola\n",
      "Kueche -> Alice\n",
      "\n",
      "Variante 5\n",
      "Staubsaugen -> Bob\n",
      "Fenster -> Alice\n",
      "Kueche -> Carola\n",
      "\n",
      "Variante 6\n",
      "Staubsaugen -> Alice\n",
      "Fenster -> Bob\n",
      "Kueche -> Carola\n"
     ]
    }
   ],
   "source": [
    "from Inj_demo import *"
   ]
  },
  {
   "cell_type": "code",
   "execution_count": 3,
   "metadata": {},
   "outputs": [
    {
     "data": {
      "text/plain": [
       "24"
      ]
     },
     "execution_count": 3,
     "metadata": {},
     "output_type": "execute_result"
    }
   ],
   "source": [
    "len(Inj(['Keuche','Staubsaugen','Bier','Fenster'],['Alice','Bob','Carola','Dennis']))"
   ]
  },
  {
   "cell_type": "code",
   "execution_count": null,
   "metadata": {},
   "outputs": [],
   "source": []
  }
 ],
 "metadata": {
  "kernelspec": {
   "display_name": "Python 3",
   "language": "python",
   "name": "python3"
  },
  "language_info": {
   "codemirror_mode": {
    "name": "ipython",
    "version": 3
   },
   "file_extension": ".py",
   "mimetype": "text/x-python",
   "name": "python",
   "nbconvert_exporter": "python",
   "pygments_lexer": "ipython3",
   "version": "3.9.2"
  }
 },
 "nbformat": 4,
 "nbformat_minor": 4
}
