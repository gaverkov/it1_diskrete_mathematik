{
 "cells": [
  {
   "cell_type": "code",
   "execution_count": 34,
   "metadata": {},
   "outputs": [],
   "source": [
    "load(\"bfs.sage\")"
   ]
  },
  {
   "cell_type": "code",
   "execution_count": 19,
   "metadata": {},
   "outputs": [],
   "source": [
    "def bfs_demo(G,s,file):\n",
    "    color={u: 'white' for u in G.vertices()}\n",
    "    Q=[s]\n",
    "    color[s]='grey'\n",
    "    d={s:0}\n",
    "    G.show()\n",
    "    cntr=0\n",
    "    ANIMATION=[]\n",
    "    tree_edges=[]\n",
    "    black_vertices=[]\n",
    "    while len(Q)>0:\n",
    "        PLOT=G.plot(figsize=[6,6],\\\n",
    "                    vertex_color='white',\\\n",
    "                    vertex_size=600,\\\n",
    "                    vertex_colors={'red': Q, 'black' : black_vertices},\\\n",
    "                    edge_colors={'red' : tree_edges}, \\\n",
    "                    edge_thickness=2)\n",
    "        ANIMATION.append(PLOT)\n",
    "        u=Q.pop(0)\n",
    "        for v in G.neighbors(u):\n",
    "            if color[v]=='white':\n",
    "                color[v]='grey'\n",
    "                d[v]=d[u]+1\n",
    "                tree_edges.append((u,v))\n",
    "                Q.append(v)\n",
    "        color[u]='black'\n",
    "        black_vertices.append(u)\n",
    "        cntr+=1\n",
    "    animate(ANIMATION).save(file)\n",
    "    return d"
   ]
  },
  {
   "cell_type": "code",
   "execution_count": null,
   "metadata": {},
   "outputs": [],
   "source": []
  }
 ],
 "metadata": {
  "kernelspec": {
   "display_name": "SageMath 9.3",
   "language": "sage",
   "name": "sagemath"
  },
  "language_info": {
   "codemirror_mode": {
    "name": "ipython",
    "version": 3
   },
   "file_extension": ".py",
   "mimetype": "text/x-python",
   "name": "python",
   "nbconvert_exporter": "python",
   "pygments_lexer": "ipython3",
   "version": "3.9.2"
  }
 },
 "nbformat": 4,
 "nbformat_minor": 4
}
